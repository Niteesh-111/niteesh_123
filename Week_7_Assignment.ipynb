{
  "nbformat": 4,
  "nbformat_minor": 0,
  "metadata": {
    "colab": {
      "provenance": []
    },
    "kernelspec": {
      "name": "python3",
      "display_name": "Python 3"
    },
    "language_info": {
      "name": "python"
    }
  },
  "cells": [
    {
      "cell_type": "markdown",
      "source": [
        "# <center>Assignment 7</center>"
      ],
      "metadata": {
        "id": "npbZx_uJlAww"
      }
    },
    {
      "cell_type": "markdown",
      "source": [
        "### Instructions:"
      ],
      "metadata": {
        "id": "NJ-qoKLclFlv"
      }
    },
    {
      "cell_type": "markdown",
      "source": [
        "1. Solve below assignment problems in the colab notebook only and submit the same on or before the deadline.\n",
        "* Naming convention for the colab notebook file should be email_assignment_7.ipynb\n",
        "* Do not copy & paste the code from online. If we do so, you will be rewarded with 0 score for the respective question.\n",
        "* If you have any queries, please reach out the assignments channel in Microsoft Teams.\n",
        "* You can refer to online resources for solving these questions but don’t copy the code."
      ],
      "metadata": {
        "id": "OO_V4VMYlI-F"
      }
    },
    {
      "cell_type": "markdown",
      "source": [
        "##Problem-1"
      ],
      "metadata": {
        "id": "FkZRQ_PrlQJS"
      }
    },
    {
      "cell_type": "code",
      "execution_count": null,
      "metadata": {
        "id": "FHH-vjMBk6zc"
      },
      "outputs": [],
      "source": [
        "def sigmoid(value):\n",
        "  '''\n",
        "    implement sigmoid function from scratch (refer the lecture).\n",
        "    INPUT:\n",
        "      value: number to find the sigmoid value\n",
        "    OUTPUT:\n",
        "      return the sigmoid value of given number\n",
        "      Note: Output should be in the range of 0 to 1.\n",
        "    Example:\n",
        "      INPUT: 0\n",
        "      OUTPUT: 0.5\n",
        "    Note: Replace the None with output in return statement.\n",
        "  '''\n",
        "  \n",
        "  ### Write your code here ###\n",
        "\n",
        "  ### Code block end ###\n",
        "\n",
        "  return None"
      ]
    },
    {
      "cell_type": "markdown",
      "source": [
        "##Problem-2"
      ],
      "metadata": {
        "id": "D-rFdm-rlVGk"
      }
    },
    {
      "cell_type": "code",
      "source": [
        "def ReLu(value):\n",
        "  '''\n",
        "    implement ReLu function from scratch (refer the lecture).\n",
        "    INPUT:\n",
        "      value: number to find the ReLu value\n",
        "    OUTPUT:\n",
        "      return the ReLu value of given number\n",
        "      Note: Output should be in the range of 0 to infinity.\n",
        "    Example1:\n",
        "      INPUT: 0\n",
        "      OUTPUT: 0\n",
        "    Example2:\n",
        "      INPUT: 15\n",
        "      OUPUT: 15\n",
        "    Example3:\n",
        "      INPUT: -1\n",
        "      OUPUT: 0\n",
        "\n",
        "    Note: Replace the None with output in return statement.\n",
        "  '''\n",
        "  \n",
        "  ### Write your code here ###\n",
        "\n",
        "  ### Code block end ###\n",
        "\n",
        "  return None"
      ],
      "metadata": {
        "id": "NyhAdMYOlUAK"
      },
      "execution_count": null,
      "outputs": []
    },
    {
      "cell_type": "markdown",
      "source": [
        "##Problem-3"
      ],
      "metadata": {
        "id": "i5GXTeHplcW1"
      }
    },
    {
      "cell_type": "code",
      "source": [
        "def Tanh(value):\n",
        "  '''\n",
        "    implement Tanh function from scratch (refer the lecture).\n",
        "    INPUT:\n",
        "      value: number to find the Tanh value\n",
        "    OUTPUT:\n",
        "      return the Tanh value of given number\n",
        "      Note: Output should be in the range of -1 to 1.\n",
        "    Example1:\n",
        "      INPUT: 0\n",
        "      OUTPUT: 0\n",
        "    Example2:\n",
        "      INPUT: -20\n",
        "      OUTPUT: -1\n",
        "    Example3:\n",
        "      INPUT: 40\n",
        "      OUTPUT: 1\n",
        "    Note: Replace the None with output in return statement.\n",
        "  '''\n",
        "  \n",
        "  ### Write your code here ###\n",
        "\n",
        "  ### Code block end ###\n",
        "\n",
        "  return None"
      ],
      "metadata": {
        "id": "uGUpsVF9lZDc"
      },
      "execution_count": null,
      "outputs": []
    }
  ]
}